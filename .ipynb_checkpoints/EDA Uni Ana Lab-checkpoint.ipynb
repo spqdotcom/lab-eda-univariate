{
 "cells": [
  {
   "cell_type": "code",
   "execution_count": 2,
   "id": "e1882e09-9a6a-44c9-821e-58dd447cc5a3",
   "metadata": {},
   "outputs": [],
   "source": [
    "import pandas as pd\n",
    "import numpy as np\n",
    "\n",
    "import matplotlib.pyplot as plt\n",
    "import seaborn as sns\n",
    "\n",
    "# Import libraries for data manipulation and visualization\n",
    "# - pandas: for data manipulation and analysis\n",
    "# - numpy: for numerical operations\n",
    "# - matplotlib.pyplot: for creating static, interactive, and animated visualizations\n",
    "# - seaborn: for making statistical graphics"
   ]
  },
  {
   "cell_type": "code",
   "execution_count": 4,
   "id": "d9d3a154-0c95-466e-8cd3-4423f6dc2d30",
   "metadata": {},
   "outputs": [
    {
     "data": {
      "text/html": [
       "<div>\n",
       "<style scoped>\n",
       "    .dataframe tbody tr th:only-of-type {\n",
       "        vertical-align: middle;\n",
       "    }\n",
       "\n",
       "    .dataframe tbody tr th {\n",
       "        vertical-align: top;\n",
       "    }\n",
       "\n",
       "    .dataframe thead th {\n",
       "        text-align: right;\n",
       "    }\n",
       "</style>\n",
       "<table border=\"1\" class=\"dataframe\">\n",
       "  <thead>\n",
       "    <tr style=\"text-align: right;\">\n",
       "      <th></th>\n",
       "      <th>uid</th>\n",
       "      <th>asin</th>\n",
       "      <th>title</th>\n",
       "      <th>stars</th>\n",
       "      <th>reviews</th>\n",
       "      <th>price</th>\n",
       "      <th>isBestSeller</th>\n",
       "      <th>boughtInLastMonth</th>\n",
       "      <th>category</th>\n",
       "    </tr>\n",
       "  </thead>\n",
       "  <tbody>\n",
       "    <tr>\n",
       "      <th>0</th>\n",
       "      <td>1</td>\n",
       "      <td>B09B96TG33</td>\n",
       "      <td>Echo Dot (5th generation, 2022 release) | Big ...</td>\n",
       "      <td>4.7</td>\n",
       "      <td>15308</td>\n",
       "      <td>21.99</td>\n",
       "      <td>False</td>\n",
       "      <td>0</td>\n",
       "      <td>Hi-Fi Speakers</td>\n",
       "    </tr>\n",
       "    <tr>\n",
       "      <th>1</th>\n",
       "      <td>2</td>\n",
       "      <td>B01HTH3C8S</td>\n",
       "      <td>Anker Soundcore mini, Super-Portable Bluetooth...</td>\n",
       "      <td>4.7</td>\n",
       "      <td>98099</td>\n",
       "      <td>23.99</td>\n",
       "      <td>True</td>\n",
       "      <td>0</td>\n",
       "      <td>Hi-Fi Speakers</td>\n",
       "    </tr>\n",
       "    <tr>\n",
       "      <th>2</th>\n",
       "      <td>3</td>\n",
       "      <td>B09B8YWXDF</td>\n",
       "      <td>Echo Dot (5th generation, 2022 release) | Big ...</td>\n",
       "      <td>4.7</td>\n",
       "      <td>15308</td>\n",
       "      <td>21.99</td>\n",
       "      <td>False</td>\n",
       "      <td>0</td>\n",
       "      <td>Hi-Fi Speakers</td>\n",
       "    </tr>\n",
       "    <tr>\n",
       "      <th>3</th>\n",
       "      <td>4</td>\n",
       "      <td>B09B8T5VGV</td>\n",
       "      <td>Echo Dot with clock (5th generation, 2022 rele...</td>\n",
       "      <td>4.7</td>\n",
       "      <td>7205</td>\n",
       "      <td>31.99</td>\n",
       "      <td>False</td>\n",
       "      <td>0</td>\n",
       "      <td>Hi-Fi Speakers</td>\n",
       "    </tr>\n",
       "    <tr>\n",
       "      <th>4</th>\n",
       "      <td>5</td>\n",
       "      <td>B09WX6QD65</td>\n",
       "      <td>Introducing Echo Pop | Full sound compact Wi-F...</td>\n",
       "      <td>4.6</td>\n",
       "      <td>1881</td>\n",
       "      <td>17.99</td>\n",
       "      <td>False</td>\n",
       "      <td>0</td>\n",
       "      <td>Hi-Fi Speakers</td>\n",
       "    </tr>\n",
       "  </tbody>\n",
       "</table>\n",
       "</div>"
      ],
      "text/plain": [
       "   uid        asin                                              title  stars  \\\n",
       "0    1  B09B96TG33  Echo Dot (5th generation, 2022 release) | Big ...    4.7   \n",
       "1    2  B01HTH3C8S  Anker Soundcore mini, Super-Portable Bluetooth...    4.7   \n",
       "2    3  B09B8YWXDF  Echo Dot (5th generation, 2022 release) | Big ...    4.7   \n",
       "3    4  B09B8T5VGV  Echo Dot with clock (5th generation, 2022 rele...    4.7   \n",
       "4    5  B09WX6QD65  Introducing Echo Pop | Full sound compact Wi-F...    4.6   \n",
       "\n",
       "   reviews  price  isBestSeller  boughtInLastMonth        category  \n",
       "0    15308  21.99         False                  0  Hi-Fi Speakers  \n",
       "1    98099  23.99          True                  0  Hi-Fi Speakers  \n",
       "2    15308  21.99         False                  0  Hi-Fi Speakers  \n",
       "3     7205  31.99         False                  0  Hi-Fi Speakers  \n",
       "4     1881  17.99         False                  0  Hi-Fi Speakers  "
      ]
     },
     "execution_count": 4,
     "metadata": {},
     "output_type": "execute_result"
    }
   ],
   "source": [
    "#Import an Amazon file\n",
    "\n",
    "amazon_price_prediction = 'amz_uk_price_prediction_dataset.csv'\n",
    "\n",
    "df = pd.read_csv(amazon_price_prediction)\n",
    "df.head()"
   ]
  },
  {
   "cell_type": "code",
   "execution_count": 6,
   "id": "9b1921a0-f601-4a19-a54f-f2ce3a0fe806",
   "metadata": {},
   "outputs": [
    {
     "name": "stdout",
     "output_type": "stream",
     "text": [
      "The percentage of empty cells in column uid is 0.0 %.\n",
      "The percentage of empty cells in column asin is 0.0 %.\n",
      "The percentage of empty cells in column title is 0.0 %.\n",
      "The percentage of empty cells in column stars is 0.0 %.\n",
      "The percentage of empty cells in column reviews is 0.0 %.\n",
      "The percentage of empty cells in column price is 0.0 %.\n",
      "The percentage of empty cells in column isBestSeller is 0.0 %.\n",
      "The percentage of empty cells in column boughtInLastMonth is 0.0 %.\n",
      "The percentage of empty cells in column category is 0.0 %.\n"
     ]
    }
   ],
   "source": [
    "#Check percentage of empty cells per column\n",
    "\n",
    "for x in df.columns:\n",
    "    print(f\"The percentage of empty cells in column {x} is {round(df[x].isna().sum()/len(df[x])*100,2)} %.\")"
   ]
  },
  {
   "cell_type": "code",
   "execution_count": 8,
   "id": "45099120-7e5b-4fed-a1ad-33cc2f408184",
   "metadata": {},
   "outputs": [
    {
     "data": {
      "text/plain": [
       "(2443651, 9)"
      ]
     },
     "execution_count": 8,
     "metadata": {},
     "output_type": "execute_result"
    }
   ],
   "source": [
    "df.shape"
   ]
  },
  {
   "cell_type": "code",
   "execution_count": 18,
   "id": "8a11bca0-919a-425c-87ab-2fdc8a33fdfd",
   "metadata": {},
   "outputs": [
    {
     "data": {
      "text/plain": [
       "uid                    int64\n",
       "asin                  object\n",
       "title                 object\n",
       "stars                float64\n",
       "reviews                int64\n",
       "price                float64\n",
       "isBestSeller            bool\n",
       "boughtInLastMonth      int64\n",
       "category              object\n",
       "dtype: object"
      ]
     },
     "execution_count": 18,
     "metadata": {},
     "output_type": "execute_result"
    }
   ],
   "source": [
    "df.dtypes"
   ]
  },
  {
   "cell_type": "code",
   "execution_count": 22,
   "id": "f0edeeaf-1090-40b4-be5f-9330e0a8d86b",
   "metadata": {
    "collapsed": true,
    "jupyter": {
     "outputs_hidden": true
    }
   },
   "outputs": [
    {
     "name": "stdout",
     "output_type": "stream",
     "text": [
      "Uniques values in 'uid': [      1       2       3 ... 2828591 2828592 2828593]\n",
      "Uniques values in 'asin': ['B09B96TG33' 'B01HTH3C8S' 'B09B8YWXDF' ... 'B0BD5FL5FB' 'B008OYLL4I'\n",
      " 'B08P3W9B3T']\n",
      "Uniques values in 'title': ['Echo Dot (5th generation, 2022 release) | Big vibrant sound Wi-Fi and Bluetooth smart speaker with Alexa | Charcoal'\n",
      " 'Anker Soundcore mini, Super-Portable Bluetooth Speaker with 15-Hour Playtime, 66-Foot Bluetooth Range, Wireless Speaker with Enhanced Bass, Noise-Cancelling Microphone, for Outdoor, Travel, Home'\n",
      " 'Echo Dot (5th generation, 2022 release) | Big vibrant sound Wi-Fi and Bluetooth smart speaker with Alexa | Deep Sea Blue'\n",
      " ...\n",
      " 'Men’s Motorcycle Motorbike Biker Trousers Kevlar Jeans Pants Protective with CE Armour Biker Gear Knee and Hip Armours Protection Clothing for Bikers'\n",
      " 'Texpeed Mens Motorcycle Motorbike Biker Trousers - Cargo Jeans Pants Made With 280gsm Aramid With Protective CE Armour (EN 1621-1) - Classic Fit Black Denim'\n",
      " 'RIDEX CJ223 Motorcycle Motorbike Jacket Armoured Waterproof for Mens']\n",
      "Uniques values in 'stars': [4.7 4.6 4.5 4.8 0.  4.4 4.3 4.1 4.9 5.  3.8 3.6 4.  4.2 3.  3.9 2.5 3.4\n",
      " 3.7 3.2 3.3 3.5 2.7 2.1 1.  3.1 2.  2.9 2.8 1.5 2.2 2.3 2.6 2.4 1.4 1.9\n",
      " 1.8 1.7 1.6 1.2 1.3 1.1]\n",
      "Uniques values in 'reviews': [ 15308  98099   7205 ...  41304  15675 547940]\n",
      "Uniques values in 'price': [ 21.99  23.99  31.99 ... 358.42 341.67 317.34]\n",
      "Uniques values in 'isBestSeller': [False  True]\n",
      "Uniques values in 'boughtInLastMonth': [    0   600  1000   200   100    50  2000   800   900   700   500   400\n",
      "   300  4000  3000  5000  9000  7000  6000 50000 20000 10000  8000 30000\n",
      " 40000]\n",
      "Uniques values in 'category': ['Hi-Fi Speakers' 'CD, Disc & Tape Players' 'Wearable Technology'\n",
      " 'Light Bulbs' 'Bathroom Lighting' 'Heating, Cooling & Air Quality'\n",
      " 'Coffee & Espresso Machines' 'Lab & Scientific Products' 'Smart Speakers'\n",
      " 'Motorbike Clothing' 'Motorbike Accessories' 'Motorbike Batteries'\n",
      " 'Motorbike Boots & Luggage' 'Motorbike Chassis'\n",
      " 'Handmade Home & Kitchen Products' 'Hardware'\n",
      " 'Storage & Home Organisation' 'Fireplaces, Stoves & Accessories'\n",
      " 'PC Gaming Accessories' 'USB Gadgets' 'Blank Media Cases & Wallets'\n",
      " 'Car & Motorbike' 'Boys' 'Sports & Outdoors' 'Microphones'\n",
      " 'String Instruments' 'Karaoke Equipment' 'PA & Stage'\n",
      " 'General Music-Making Accessories' 'Wind Instruments' 'Handmade Gifts'\n",
      " 'Fragrances' 'Calendars & Personal Organisers' 'Furniture & Lighting'\n",
      " 'Computer Printers' 'Ski Goggles' 'Snowboards' 'Skiing Poles'\n",
      " 'Downhill Ski Boots' 'Hiking Hand & Foot Warmers' 'Pet Supplies'\n",
      " 'Plants, Seeds & Bulbs' 'Garden Furniture & Accessories'\n",
      " 'Bird & Wildlife Care' 'Storage & Organisation' 'Living Room Furniture'\n",
      " 'Bedding & Linen' 'Curtain & Blind Accessories' 'Skin Care'\n",
      " \"Kids' Art & Craft Supplies\" \"Kids' Play Vehicles\" 'Hobbies' 'Laptops'\n",
      " 'Projectors' 'Graphics Cards' 'Computer Memory' 'Motherboards'\n",
      " 'Power Supplies' 'CPUs' 'Computer Screws' 'Streaming Clients'\n",
      " '3D Printers' 'Barebone PCs' \"Women's Sports & Outdoor Shoes\"\n",
      " 'Luxury Food & Drink' 'Alexa Built-In Devices' 'PC & Video Games'\n",
      " 'SIM Cards' 'Mobile Phone Accessories' 'Birthday Gifts'\n",
      " 'Handmade Kitchen & Dining' 'Abrasive & Finishing Products'\n",
      " 'Professional Medical Supplies' 'Cutting Tools'\n",
      " 'Material Handling Products' 'Packaging & Shipping Supplies'\n",
      " 'Power & Hand Tools' 'Agricultural Equipment & Supplies' 'Tennis Shoes'\n",
      " 'Boating Footwear' 'Cycling Shoes' 'Bath & Body'\n",
      " 'Home Brewing & Wine Making' 'Tableware' 'Kitchen Storage & Organisation'\n",
      " 'Kitchen Tools & Gadgets' 'Cookware'\n",
      " 'Water Coolers, Filters & Cartridges' 'Beer, Wine & Spirits'\n",
      " 'Manicure & Pedicure Products' 'Flashes'\n",
      " 'Computers, Components & Accessories' 'Home Audio Record Players'\n",
      " 'Radios & Boomboxes' 'Car & Vehicle Electronics'\n",
      " 'eBook Readers & Accessories' 'Lighting' 'Small Kitchen Appliances'\n",
      " 'Motorbike Engines & Engine Parts' 'Motorbike Drive & Gears'\n",
      " 'Motorbike Brakes' 'Motorbike Exhaust & Exhaust Systems'\n",
      " 'Motorbike Handlebars, Controls & Grips' 'Mowers & Outdoor Power Tools'\n",
      " 'Kitchen & Bath Fixtures' 'Rough Plumbing' 'Monitor Accessories'\n",
      " 'Cables & Accessories' 'Guitars & Gear'\n",
      " 'Pens, Pencils & Writing Supplies' 'School & Educational Supplies'\n",
      " 'Ski Clothing' 'Outdoor Heaters & Fire Pits' 'Garden Décor' 'Beauty'\n",
      " 'Made in Italy Handmade' 'Cushions & Accessories' 'Home Fragrance'\n",
      " 'Window Treatments' 'Home Entertainment Furniture'\n",
      " 'Dining Room Furniture' 'Home Bar Furniture' 'Kitchen Linen'\n",
      " 'Mattress Pads & Toppers' \"Children's Bedding\" 'Bedding Accessories'\n",
      " 'Games & Game Accessories' 'Dolls & Accessories' 'Sports Toys & Outdoor'\n",
      " 'Monitors' 'I/O Port Cards' 'Computer Cases' 'KVM Switches'\n",
      " 'Printers & Accessories' 'Telephones, VoIP & Accessories'\n",
      " 'Handmade Artwork' 'Industrial Electrical' 'Test & Measurement'\n",
      " '3D Printing & Scanning' 'Basketball Footwear' 'Make-up'\n",
      " 'Surveillance Cameras' 'Photo Printers' 'Tripods & Monopods'\n",
      " 'Mobile Phones & Communication' 'Electrical Power Accessories'\n",
      " 'Radio Communication' 'Outdoor Rope Lights' 'Vacuums & Floorcare'\n",
      " 'Large Appliances' 'Motorbike Lighting' 'Motorbike Seat Covers'\n",
      " 'Motorbike Instruments' 'Motorbike Electrical & Batteries'\n",
      " 'Lights and switches' 'Plugs' 'Home Entertainment' 'Girls'\n",
      " 'Painting Supplies, Tools & Wall Treatments' 'Building Supplies'\n",
      " 'Safety & Security' 'Tablet Accessories'\n",
      " 'Keyboards, Mice & Input Devices' 'Laptop Accessories'\n",
      " 'Headphones & Earphones' 'Baby' 'Smartwatches' 'Piano & Keyboard'\n",
      " 'Drums & Percussion' 'Synthesisers, Samplers & Digital Instruments'\n",
      " 'Office Electronics' 'Office Supplies' 'Gardening' 'Outdoor Cooking'\n",
      " 'Decking & Fencing' 'Thermometers & Meteorological Instruments'\n",
      " 'Pools, Hot Tubs & Supplies' 'Health & Personal Care'\n",
      " 'Decorative Artificial Flora' 'Candles & Holders' 'Signs & Plaques'\n",
      " 'Home Office Furniture' 'Bathroom Furniture'\n",
      " 'Inflatable Beds, Pillows & Accessories' 'Bathroom Linen'\n",
      " 'Bedding Collections' \"Kids' Play Figures\" 'Baby & Toddler Toys'\n",
      " 'Learning & Education Toys' 'Toy Advent Calendars' 'Electronic Toys'\n",
      " 'Tablets' 'External Sound Cards'\n",
      " 'Internal TV Tuner & Video Capture Cards'\n",
      " 'External TV Tuners & Video Capture Cards' 'Scanners & Accessories'\n",
      " \"Men's Sports & Outdoor Shoes\" 'Darts & Dartboards' 'Table Tennis'\n",
      " 'Billiard, Snooker & Pool' 'Bowling' 'Trampolines & Accessories'\n",
      " 'Handmade Clothing, Shoes & Accessories' 'Handmade Home Décor' 'Handmade'\n",
      " 'Smart Home Security & Lighting' 'Professional Education Supplies'\n",
      " 'Hydraulics, Pneumatics & Plumbing' 'Ballet & Dancing Footwear'\n",
      " 'Cricket Shoes' 'Golf Shoes' 'Boxing Shoes' 'Men'\n",
      " 'Headphones, Earphones & Accessories' 'Bakeware' 'Grocery' 'Lenses'\n",
      " 'Camcorders' 'Camera & Photo Accessories'\n",
      " 'Household Batteries, Chargers & Accessories' 'Home Cinema, TV & Video'\n",
      " 'Hi-Fi & Home Audio Accessories' 'Portable Sound & Video Products'\n",
      " 'Outdoor Lighting' 'Torches' 'Sports Supplements' 'Ironing & Steamers'\n",
      " \"Customers' Most Loved\" 'Cameras' 'Electrical' 'Construction Machinery'\n",
      " 'Handmade Baby Products' 'USB Hubs' 'Computer Audio & Video Accessories'\n",
      " 'Adapters' 'Computer & Server Racks' 'Hard Drive Accessories'\n",
      " 'Printer Accessories' 'Computer Memory Card Accessories'\n",
      " 'Uninterruptible Power Supply Units & Accessories'\n",
      " 'Luggage and travel gear' 'Bass Guitars & Gear' 'Recording & Computer'\n",
      " 'DJ & VJ Equipment' 'Art & Craft Supplies' 'Office Paper Products'\n",
      " 'Ski Helmets' 'Snowboard Boots' 'Snowboard Bindings' 'Downhill Skis'\n",
      " 'Snow Sledding Equipment' 'Networking Devices' 'Garden Storage & Housing'\n",
      " 'Garden Tools & Watering Equipment' 'Photo Frames'\n",
      " 'Rugs, Pads & Protectors' 'Mirrors' 'Clocks' 'Doormats'\n",
      " 'Decorative Home Accessories' 'Boxes & Organisers' 'Slipcovers' 'Vases'\n",
      " 'Bedroom Furniture' 'Hallway Furniture' 'Jigsaws & Puzzles'\n",
      " 'Building & Construction Toys' 'Remote & App-Controlled Devices'\n",
      " \"Kids' Dress Up & Pretend Play\" 'Soft Toys' 'Desktop PCs'\n",
      " 'External Optical Drives' 'Internal Optical Drives' 'Network Cards'\n",
      " 'Data Storage' 'Mobile Phones & Smartphones' 'Handmade Jewellery'\n",
      " 'Gifts for Him' 'Gifts for Her' 'Women' 'Hockey Shoes'\n",
      " 'Climbing Footwear' 'Equestrian Sports Boots' 'Arts & Crafts' 'Hair Care'\n",
      " 'Coffee, Tea & Espresso' 'Digital Cameras' 'Digital Frames'\n",
      " 'Action Cameras' 'Film Cameras' 'Binoculars, Telescopes & Optics'\n",
      " 'Media Streaming Devices' 'Hi-Fi Receivers & Separates'\n",
      " 'GPS, Finders & Accessories' 'Indoor Lighting' 'String Lights']\n"
     ]
    }
   ],
   "source": [
    "for column in df.columns:\n",
    "    unique_values_mat = df[column].unique()\n",
    "    print(f\"Uniques values in '{column}': {unique_values_mat}\")"
   ]
  },
  {
   "cell_type": "code",
   "execution_count": 24,
   "id": "f6f57988-c7dc-4f41-9ce8-411ccd346c5e",
   "metadata": {},
   "outputs": [
    {
     "data": {
      "text/plain": [
       "[dtype('O'), dtype('int64'), dtype('bool'), dtype('float64')]"
      ]
     },
     "execution_count": 24,
     "metadata": {},
     "output_type": "execute_result"
    }
   ],
   "source": [
    "# Retrieving the unique data types present in the dataframe columns\n",
    "list(set(df.dtypes.tolist())) #transformamos el df en una lista, luego en un set para eliminar repetidos y luego lista de nuevo"
   ]
  },
  {
   "cell_type": "code",
   "execution_count": 26,
   "id": "65f756d1-ec71-4980-8ec6-2275d442c8e4",
   "metadata": {},
   "outputs": [
    {
     "data": {
      "text/plain": [
       "Index(['uid', 'stars', 'reviews', 'price', 'boughtInLastMonth'], dtype='object')"
      ]
     },
     "execution_count": 26,
     "metadata": {},
     "output_type": "execute_result"
    }
   ],
   "source": [
    "# Extracting column names with numerical data types from the dataframe\n",
    "df.select_dtypes(\"number\").columns"
   ]
  },
  {
   "cell_type": "code",
   "execution_count": 28,
   "id": "6e797c3d-472c-4343-959f-aa72ce1b4dc4",
   "metadata": {},
   "outputs": [
    {
     "data": {
      "text/plain": [
       "uid                  2443651\n",
       "price                  82916\n",
       "reviews                19446\n",
       "stars                     42\n",
       "boughtInLastMonth         25\n",
       "dtype: int64"
      ]
     },
     "execution_count": 28,
     "metadata": {},
     "output_type": "execute_result"
    }
   ],
   "source": [
    "# Counting and sorting the unique values for each numerical column in descending order\n",
    "df.select_dtypes(\"number\").nunique().sort_values(ascending=False)"
   ]
  },
  {
   "cell_type": "code",
   "execution_count": 32,
   "id": "13c14c5a-078c-43cb-af6f-c160c1b071ee",
   "metadata": {},
   "outputs": [
    {
     "data": {
      "text/plain": [
       "array(['Hi-Fi Speakers', 'CD, Disc & Tape Players', 'Wearable Technology',\n",
       "       'Light Bulbs', 'Bathroom Lighting',\n",
       "       'Heating, Cooling & Air Quality', 'Coffee & Espresso Machines',\n",
       "       'Lab & Scientific Products', 'Smart Speakers',\n",
       "       'Motorbike Clothing', 'Motorbike Accessories',\n",
       "       'Motorbike Batteries', 'Motorbike Boots & Luggage',\n",
       "       'Motorbike Chassis', 'Handmade Home & Kitchen Products',\n",
       "       'Hardware', 'Storage & Home Organisation',\n",
       "       'Fireplaces, Stoves & Accessories', 'PC Gaming Accessories',\n",
       "       'USB Gadgets', 'Blank Media Cases & Wallets', 'Car & Motorbike',\n",
       "       'Boys', 'Sports & Outdoors', 'Microphones', 'String Instruments',\n",
       "       'Karaoke Equipment', 'PA & Stage',\n",
       "       'General Music-Making Accessories', 'Wind Instruments',\n",
       "       'Handmade Gifts', 'Fragrances', 'Calendars & Personal Organisers',\n",
       "       'Furniture & Lighting', 'Computer Printers', 'Ski Goggles',\n",
       "       'Snowboards', 'Skiing Poles', 'Downhill Ski Boots',\n",
       "       'Hiking Hand & Foot Warmers', 'Pet Supplies',\n",
       "       'Plants, Seeds & Bulbs', 'Garden Furniture & Accessories',\n",
       "       'Bird & Wildlife Care', 'Storage & Organisation',\n",
       "       'Living Room Furniture', 'Bedding & Linen',\n",
       "       'Curtain & Blind Accessories', 'Skin Care',\n",
       "       \"Kids' Art & Craft Supplies\", \"Kids' Play Vehicles\", 'Hobbies',\n",
       "       'Laptops', 'Projectors', 'Graphics Cards', 'Computer Memory',\n",
       "       'Motherboards', 'Power Supplies', 'CPUs', 'Computer Screws',\n",
       "       'Streaming Clients', '3D Printers', 'Barebone PCs',\n",
       "       \"Women's Sports & Outdoor Shoes\", 'Luxury Food & Drink',\n",
       "       'Alexa Built-In Devices', 'PC & Video Games', 'SIM Cards',\n",
       "       'Mobile Phone Accessories', 'Birthday Gifts',\n",
       "       'Handmade Kitchen & Dining', 'Abrasive & Finishing Products',\n",
       "       'Professional Medical Supplies', 'Cutting Tools',\n",
       "       'Material Handling Products', 'Packaging & Shipping Supplies',\n",
       "       'Power & Hand Tools', 'Agricultural Equipment & Supplies',\n",
       "       'Tennis Shoes', 'Boating Footwear', 'Cycling Shoes', 'Bath & Body',\n",
       "       'Home Brewing & Wine Making', 'Tableware',\n",
       "       'Kitchen Storage & Organisation', 'Kitchen Tools & Gadgets',\n",
       "       'Cookware', 'Water Coolers, Filters & Cartridges',\n",
       "       'Beer, Wine & Spirits', 'Manicure & Pedicure Products', 'Flashes',\n",
       "       'Computers, Components & Accessories', 'Home Audio Record Players',\n",
       "       'Radios & Boomboxes', 'Car & Vehicle Electronics',\n",
       "       'eBook Readers & Accessories', 'Lighting',\n",
       "       'Small Kitchen Appliances', 'Motorbike Engines & Engine Parts',\n",
       "       'Motorbike Drive & Gears', 'Motorbike Brakes',\n",
       "       'Motorbike Exhaust & Exhaust Systems',\n",
       "       'Motorbike Handlebars, Controls & Grips',\n",
       "       'Mowers & Outdoor Power Tools', 'Kitchen & Bath Fixtures',\n",
       "       'Rough Plumbing', 'Monitor Accessories', 'Cables & Accessories',\n",
       "       'Guitars & Gear', 'Pens, Pencils & Writing Supplies',\n",
       "       'School & Educational Supplies', 'Ski Clothing',\n",
       "       'Outdoor Heaters & Fire Pits', 'Garden Décor', 'Beauty',\n",
       "       'Made in Italy Handmade', 'Cushions & Accessories',\n",
       "       'Home Fragrance', 'Window Treatments',\n",
       "       'Home Entertainment Furniture', 'Dining Room Furniture',\n",
       "       'Home Bar Furniture', 'Kitchen Linen', 'Mattress Pads & Toppers',\n",
       "       \"Children's Bedding\", 'Bedding Accessories',\n",
       "       'Games & Game Accessories', 'Dolls & Accessories',\n",
       "       'Sports Toys & Outdoor', 'Monitors', 'I/O Port Cards',\n",
       "       'Computer Cases', 'KVM Switches', 'Printers & Accessories',\n",
       "       'Telephones, VoIP & Accessories', 'Handmade Artwork',\n",
       "       'Industrial Electrical', 'Test & Measurement',\n",
       "       '3D Printing & Scanning', 'Basketball Footwear', 'Make-up',\n",
       "       'Surveillance Cameras', 'Photo Printers', 'Tripods & Monopods',\n",
       "       'Mobile Phones & Communication', 'Electrical Power Accessories',\n",
       "       'Radio Communication', 'Outdoor Rope Lights',\n",
       "       'Vacuums & Floorcare', 'Large Appliances', 'Motorbike Lighting',\n",
       "       'Motorbike Seat Covers', 'Motorbike Instruments',\n",
       "       'Motorbike Electrical & Batteries', 'Lights and switches', 'Plugs',\n",
       "       'Home Entertainment', 'Girls',\n",
       "       'Painting Supplies, Tools & Wall Treatments', 'Building Supplies',\n",
       "       'Safety & Security', 'Tablet Accessories',\n",
       "       'Keyboards, Mice & Input Devices', 'Laptop Accessories',\n",
       "       'Headphones & Earphones', 'Baby', 'Smartwatches',\n",
       "       'Piano & Keyboard', 'Drums & Percussion',\n",
       "       'Synthesisers, Samplers & Digital Instruments',\n",
       "       'Office Electronics', 'Office Supplies', 'Gardening',\n",
       "       'Outdoor Cooking', 'Decking & Fencing',\n",
       "       'Thermometers & Meteorological Instruments',\n",
       "       'Pools, Hot Tubs & Supplies', 'Health & Personal Care',\n",
       "       'Decorative Artificial Flora', 'Candles & Holders',\n",
       "       'Signs & Plaques', 'Home Office Furniture', 'Bathroom Furniture',\n",
       "       'Inflatable Beds, Pillows & Accessories', 'Bathroom Linen',\n",
       "       'Bedding Collections', \"Kids' Play Figures\", 'Baby & Toddler Toys',\n",
       "       'Learning & Education Toys', 'Toy Advent Calendars',\n",
       "       'Electronic Toys', 'Tablets', 'External Sound Cards',\n",
       "       'Internal TV Tuner & Video Capture Cards',\n",
       "       'External TV Tuners & Video Capture Cards',\n",
       "       'Scanners & Accessories', \"Men's Sports & Outdoor Shoes\",\n",
       "       'Darts & Dartboards', 'Table Tennis', 'Billiard, Snooker & Pool',\n",
       "       'Bowling', 'Trampolines & Accessories',\n",
       "       'Handmade Clothing, Shoes & Accessories', 'Handmade Home Décor',\n",
       "       'Handmade', 'Smart Home Security & Lighting',\n",
       "       'Professional Education Supplies',\n",
       "       'Hydraulics, Pneumatics & Plumbing', 'Ballet & Dancing Footwear',\n",
       "       'Cricket Shoes', 'Golf Shoes', 'Boxing Shoes', 'Men',\n",
       "       'Headphones, Earphones & Accessories', 'Bakeware', 'Grocery',\n",
       "       'Lenses', 'Camcorders', 'Camera & Photo Accessories',\n",
       "       'Household Batteries, Chargers & Accessories',\n",
       "       'Home Cinema, TV & Video', 'Hi-Fi & Home Audio Accessories',\n",
       "       'Portable Sound & Video Products', 'Outdoor Lighting', 'Torches',\n",
       "       'Sports Supplements', 'Ironing & Steamers',\n",
       "       \"Customers' Most Loved\", 'Cameras', 'Electrical',\n",
       "       'Construction Machinery', 'Handmade Baby Products', 'USB Hubs',\n",
       "       'Computer Audio & Video Accessories', 'Adapters',\n",
       "       'Computer & Server Racks', 'Hard Drive Accessories',\n",
       "       'Printer Accessories', 'Computer Memory Card Accessories',\n",
       "       'Uninterruptible Power Supply Units & Accessories',\n",
       "       'Luggage and travel gear', 'Bass Guitars & Gear',\n",
       "       'Recording & Computer', 'DJ & VJ Equipment',\n",
       "       'Art & Craft Supplies', 'Office Paper Products', 'Ski Helmets',\n",
       "       'Snowboard Boots', 'Snowboard Bindings', 'Downhill Skis',\n",
       "       'Snow Sledding Equipment', 'Networking Devices',\n",
       "       'Garden Storage & Housing', 'Garden Tools & Watering Equipment',\n",
       "       'Photo Frames', 'Rugs, Pads & Protectors', 'Mirrors', 'Clocks',\n",
       "       'Doormats', 'Decorative Home Accessories', 'Boxes & Organisers',\n",
       "       'Slipcovers', 'Vases', 'Bedroom Furniture', 'Hallway Furniture',\n",
       "       'Jigsaws & Puzzles', 'Building & Construction Toys',\n",
       "       'Remote & App-Controlled Devices', \"Kids' Dress Up & Pretend Play\",\n",
       "       'Soft Toys', 'Desktop PCs', 'External Optical Drives',\n",
       "       'Internal Optical Drives', 'Network Cards', 'Data Storage',\n",
       "       'Mobile Phones & Smartphones', 'Handmade Jewellery',\n",
       "       'Gifts for Him', 'Gifts for Her', 'Women', 'Hockey Shoes',\n",
       "       'Climbing Footwear', 'Equestrian Sports Boots', 'Arts & Crafts',\n",
       "       'Hair Care', 'Coffee, Tea & Espresso', 'Digital Cameras',\n",
       "       'Digital Frames', 'Action Cameras', 'Film Cameras',\n",
       "       'Binoculars, Telescopes & Optics', 'Media Streaming Devices',\n",
       "       'Hi-Fi Receivers & Separates', 'GPS, Finders & Accessories',\n",
       "       'Indoor Lighting', 'String Lights'], dtype=object)"
      ]
     },
     "execution_count": 32,
     "metadata": {},
     "output_type": "execute_result"
    }
   ],
   "source": [
    "unique_values_cat = df['category'].unique()\n",
    "unique_values_cat"
   ]
  },
  {
   "cell_type": "code",
   "execution_count": 34,
   "id": "2bfac4b4-e689-41bd-a3d7-3815fc362973",
   "metadata": {},
   "outputs": [
    {
     "data": {
      "text/plain": [
       "Index(['asin', 'title', 'category'], dtype='object')"
      ]
     },
     "execution_count": 34,
     "metadata": {},
     "output_type": "execute_result"
    }
   ],
   "source": [
    "# Retrieving column names with object (typically string) data types from the dataframe\n",
    "df.select_dtypes(\"object\").columns"
   ]
  },
  {
   "cell_type": "code",
   "execution_count": 36,
   "id": "23720868-5e24-4111-ba14-bee32db0d232",
   "metadata": {},
   "outputs": [
    {
     "data": {
      "text/plain": [
       "asin        2222742\n",
       "title       2077591\n",
       "category        296\n",
       "dtype: int64"
      ]
     },
     "execution_count": 36,
     "metadata": {},
     "output_type": "execute_result"
    }
   ],
   "source": [
    "# Counting and sorting the unique values for each object (string) column in descending order\n",
    "df.select_dtypes(\"object\").nunique().sort_values(ascending=False)\n",
    "\n",
    "# All columns seem categorical, as there isn't a wide variability of values."
   ]
  },
  {
   "cell_type": "code",
   "execution_count": 40,
   "id": "293664b1-9389-4c7e-8f50-8d1513115c39",
   "metadata": {},
   "outputs": [
    {
     "data": {
      "text/plain": [
       "(category\n",
       " Sports & Outdoors                         836265\n",
       " Beauty                                     19312\n",
       " Handmade Clothing, Shoes & Accessories     19229\n",
       " Bath & Body                                19092\n",
       " Birthday Gifts                             18978\n",
       " Name: count, dtype: int64,\n",
       " category\n",
       " Sports & Outdoors                         0.342219\n",
       " Beauty                                    0.007903\n",
       " Handmade Clothing, Shoes & Accessories    0.007869\n",
       " Bath & Body                               0.007813\n",
       " Birthday Gifts                            0.007766\n",
       " Name: proportion, dtype: float64)"
      ]
     },
     "execution_count": 40,
     "metadata": {},
     "output_type": "execute_result"
    }
   ],
   "source": [
    "# Frequency table for 'MSZoning'\n",
    "frequency_table = df['category'].value_counts().head()\n",
    "\n",
    "# Calculating the proportion of each unique value in the 'MSZoning'\n",
    "proportion_table = df['category'].value_counts(normalize=True).head() # Muestra la frecuencia relativa (%)\n",
    "\n",
    "frequency_table, proportion_table"
   ]
  },
  {
   "cell_type": "code",
   "execution_count": 46,
   "id": "e26ae111-acb3-4569-b311-e2f9bfd396f7",
   "metadata": {},
   "outputs": [
    {
     "name": "stderr",
     "output_type": "stream",
     "text": [
      "C:\\Users\\barba\\AppData\\Local\\Temp\\ipykernel_14580\\1956317461.py:2: FutureWarning: \n",
      "\n",
      "Passing `palette` without assigning `hue` is deprecated and will be removed in v0.14.0. Assign the `x` variable to `hue` and set `legend=False` for the same effect.\n",
      "\n",
      "  sns.barplot(x=frequency_table.index, y=frequency_table.values, palette=\"Set3\")\n"
     ]
    },
    {
     "data": {
      "image/png": "[encoded data removed]",
      "text/plain": [
       "<Figure size 640x480 with 1 Axes>"
      ]
     },
     "metadata": {},
     "output_type": "display_data"
    }
   ],
   "source": [
    "# Plotting a bar chart using the values from the frequency table, with colors sourced from the \"Set3\" palette\n",
    "sns.barplot(x=frequency_table.index, y=frequency_table.values, palette=\"Set3\")\n",
    "plt.xticks(rotation=45, ha='right', fontsize=8)  # Ajusta el tamaño de fuente y la alineación horizontal\n",
    "plt.show()"
   ]
  },
  {
   "cell_type": "code",
   "execution_count": null,
   "id": "3fa17e9d-8e43-4a76-a6f5-bf81bbdb2e04",
   "metadata": {},
   "outputs": [],
   "source": [
    "# Plotting a bar chart using the values from the frequency table, with colors sourced from the \"Set3\" palette\n",
    "sns.barplot(x=frequency_table.index, y=frequency_table.values, palette=\"Set3\");\n",
    "plt.show()"
   ]
  },
  {
   "cell_type": "code",
   "execution_count": 48,
   "id": "af7a6613-b448-4c52-b67c-029c854a2064",
   "metadata": {},
   "outputs": [
    {
     "data": {
      "image/png": "[encoded data removed]",
      "text/plain": [
       "<Figure size 800x800 with 1 Axes>"
      ]
     },
     "metadata": {},
     "output_type": "display_data"
    }
   ],
   "source": [
    "plt.figure(figsize=(8, 8))\n",
    "plt.pie(frequency_table.values, labels=None, colors=sns.color_palette(\"Set3\"), autopct='%1.1f%%')\n",
    "plt.legend(frequency_table.index, loc='upper right', bbox_to_anchor=(1.3, 1.0))\n",
    "plt.show()"
   ]
  },
  {
   "cell_type": "code",
   "execution_count": 52,
   "id": "cb9118a1-f0ba-4ef9-85e3-67a6ec7525e5",
   "metadata": {},
   "outputs": [
    {
     "data": {
      "text/plain": [
       "89.24380943923663"
      ]
     },
     "execution_count": 52,
     "metadata": {},
     "output_type": "execute_result"
    }
   ],
   "source": [
    "df['price'].mean()"
   ]
  },
  {
   "cell_type": "code",
   "execution_count": 54,
   "id": "58d017c5-a4c9-49e6-935d-c232e7a9906d",
   "metadata": {},
   "outputs": [
    {
     "data": {
      "text/plain": [
       "19.09"
      ]
     },
     "execution_count": 54,
     "metadata": {},
     "output_type": "execute_result"
    }
   ],
   "source": [
    "df['price'].median()"
   ]
  },
  {
   "cell_type": "code",
   "execution_count": 56,
   "id": "00a73bb3-6a32-4821-b388-a6cd2cf3dc4f",
   "metadata": {},
   "outputs": [
    {
     "data": {
      "text/plain": [
       "0    9.99\n",
       "Name: price, dtype: float64"
      ]
     },
     "execution_count": 56,
     "metadata": {},
     "output_type": "execute_result"
    }
   ],
   "source": [
    "df['price'].mode()"
   ]
  },
  {
   "cell_type": "code",
   "execution_count": 64,
   "id": "ecace379-01c5-46a9-b5d7-78419dd83b9e",
   "metadata": {},
   "outputs": [
    {
     "data": {
      "text/plain": [
       "119445.48532256528"
      ]
     },
     "execution_count": 64,
     "metadata": {},
     "output_type": "execute_result"
    }
   ],
   "source": [
    "df['price'].var()"
   ]
  },
  {
   "cell_type": "code",
   "execution_count": 58,
   "id": "9e5f8884-0178-4fd2-96eb-d7d2cf3f6ac2",
   "metadata": {},
   "outputs": [
    {
     "data": {
      "text/plain": [
       "count    2.443651e+06\n",
       "mean     8.924381e+01\n",
       "std      3.456089e+02\n",
       "min      0.000000e+00\n",
       "25%      9.990000e+00\n",
       "50%      1.909000e+01\n",
       "75%      4.599000e+01\n",
       "max      1.000000e+05\n",
       "Name: price, dtype: float64"
      ]
     },
     "execution_count": 58,
     "metadata": {},
     "output_type": "execute_result"
    }
   ],
   "source": [
    "df['price'].describe()"
   ]
  },
  {
   "cell_type": "code",
   "execution_count": 62,
   "id": "e93684e7-fc8a-40d2-8452-dc81eb95fd7b",
   "metadata": {},
   "outputs": [
    {
     "data": {
      "text/plain": [
       "100000.0"
      ]
     },
     "execution_count": 62,
     "metadata": {},
     "output_type": "execute_result"
    }
   ],
   "source": [
    "range = df['price'].max()-df['price'].min()\n",
    "range"
   ]
  },
  {
   "cell_type": "code",
   "execution_count": 68,
   "id": "b0ac4705-8398-4605-bc7f-ecf38d72f396",
   "metadata": {},
   "outputs": [
    {
     "data": {
      "text/plain": [
       "(27.492977566280338, 4241.616412866518)"
      ]
     },
     "execution_count": 68,
     "metadata": {},
     "output_type": "execute_result"
    }
   ],
   "source": [
    "skewness_price = df['price'].skew() #se compara con 0\n",
    "kurtosis_price = df['price'].kurtosis() #se compara con 3\n",
    "\n",
    "skewness_price, kurtosis_price"
   ]
  },
  {
   "cell_type": "code",
   "execution_count": null,
   "id": "9383d998-acf9-47ff-b412-d7d5d48d4671",
   "metadata": {},
   "outputs": [],
   "source": [
    "#cola mas larga hacia la derecha\n",
    "#pico muy puntiagudo"
   ]
  },
  {
   "cell_type": "code",
   "execution_count": 74,
   "id": "54e9784f-fae2-4fa9-b6f3-e6c16c09fb7f",
   "metadata": {
    "collapsed": true,
    "jupyter": {
     "outputs_hidden": true
    }
   },
   "outputs": [
    {
     "data": {
      "text/plain": [
       "array([     0.,  10000.,  20000.,  30000.,  40000.,  50000.,  60000.,\n",
       "        70000.,  80000.,  90000., 100000.])"
      ]
     },
     "execution_count": 74,
     "metadata": {},
     "output_type": "execute_result"
    }
   ],
   "source": [
    "#Create bins to be able to group publications according to surface area\n",
    "bins = np.arange(0, df['price'].max() + 10000, 10000)\n",
    "bins"
   ]
  },
  {
   "cell_type": "code",
   "execution_count": 80,
   "id": "2bd16178-672a-420d-bb5a-477c08e5909a",
   "metadata": {
    "collapsed": true,
    "jupyter": {
     "outputs_hidden": true
    }
   },
   "outputs": [
    {
     "name": "stdout",
     "output_type": "stream",
     "text": [
      "price_range\n",
      "(0.0, 10000.0]         2443464\n",
      "(10000.0, 20000.0]         154\n",
      "(20000.0, 30000.0]          11\n",
      "(30000.0, 40000.0]           0\n",
      "(40000.0, 50000.0]           0\n",
      "(50000.0, 60000.0]           0\n",
      "(60000.0, 70000.0]           0\n",
      "(70000.0, 80000.0]           1\n",
      "(80000.0, 90000.0]           0\n",
      "(90000.0, 100000.0]          1\n",
      "Name: count, dtype: int64\n"
     ]
    }
   ],
   "source": [
    "df['price_range'] = pd.cut(df['price'], bins=bins)\n",
    "\n",
    "count_ranges = df['price_range'].value_counts().sort_index()\n",
    "\n",
    "print(count_ranges)"
   ]
  },
  {
   "cell_type": "code",
   "execution_count": 82,
   "id": "9ec90dc5-4473-4215-9f3b-852dbf80cc02",
   "metadata": {},
   "outputs": [
    {
     "data": {
      "image/png": "[encoded data removed]",
      "text/plain": [
       "<Figure size 1000x600 with 1 Axes>"
      ]
     },
     "metadata": {},
     "output_type": "display_data"
    }
   ],
   "source": [
    "# Define the bins using numpy for easier calculation\n",
    "bins = np.arange(0, df['price'].max() + 10000, 10000)\n",
    "\n",
    "# Create the histogram\n",
    "plt.figure(figsize=(10, 6))\n",
    "plt.hist(df['price'], bins=bins, color='skyblue', edgecolor='black')\n",
    "plt.title('Price Distribution')\n",
    "plt.xlabel('Price')\n",
    "plt.ylabel('Number of Listings')\n",
    "plt.xticks(bins, rotation=45)  # To improve readability of x-axis labels\n",
    "plt.show()"
   ]
  },
  {
   "cell_type": "code",
   "execution_count": 84,
   "id": "1562f223-a29c-48eb-85de-bf08d4b7b03e",
   "metadata": {},
   "outputs": [
    {
     "data": {
      "image/png": "[encoded data removed]",
      "text/plain": [
       "<Figure size 1000x600 with 1 Axes>"
      ]
     },
     "metadata": {},
     "output_type": "display_data"
    }
   ],
   "source": [
    "# Create the histogram\n",
    "plt.figure(figsize=(10, 6))\n",
    "sns.histplot(df['price'], bins=bins, color='skyblue', kde=False)\n",
    "plt.title('Price Distribution')\n",
    "plt.xlabel('Price')\n",
    "plt.ylabel('Number of Listings')\n",
    "plt.xticks(bins, rotation=45)  # To improve readability of x-axis labels\n",
    "plt.show()"
   ]
  },
  {
   "cell_type": "code",
   "execution_count": 86,
   "id": "78746d3a-543b-43ac-b67e-5b0a930b98bd",
   "metadata": {},
   "outputs": [
    {
     "name": "stdout",
     "output_type": "stream",
     "text": [
      "-44.01\n",
      "99.99000000000001\n",
      "Outliers in 'price':\n",
      "10         139.00\n",
      "19         164.99\n",
      "25         149.99\n",
      "28         289.00\n",
      "31         199.99\n",
      "            ...  \n",
      "2443619    166.99\n",
      "2443627    152.58\n",
      "2443638    108.77\n",
      "2443641    166.99\n",
      "2443643    158.99\n",
      "Name: price, Length: 327688, dtype: float64\n"
     ]
    }
   ],
   "source": [
    "#Identify ranges of outliers according to prices\n",
    "values = df['price'].dropna()\n",
    "\n",
    "# Calculate Q1 (25th percentile) and Q3 (75th percentile)\n",
    "Q1 = values.quantile(0.25)\n",
    "Q3 = values.quantile(0.75)\n",
    "\n",
    "# Calculate the IQR\n",
    "IQR = Q3 - Q1\n",
    "\n",
    "# Determine the outlier limits\n",
    "lower_bound = Q1 - 1.5 * IQR\n",
    "upper_bound = Q3 + 1.5 * IQR\n",
    "print(lower_bound)\n",
    "print(upper_bound)\n",
    "\n",
    "# Identify the outliers\n",
    "outliers = values[(values < lower_bound) | (values > upper_bound)]\n",
    "\n",
    "print(\"Outliers in 'price':\")\n",
    "print(outliers)"
   ]
  },
  {
   "cell_type": "code",
   "execution_count": 88,
   "id": "feb9d14a-2468-47ad-9e16-46fbd9a7064b",
   "metadata": {},
   "outputs": [],
   "source": [
    "#Eliminate outliers according to housing surface\n",
    "df = df[df['price'] <= upper_bound]"
   ]
  },
  {
   "cell_type": "code",
   "execution_count": 94,
   "id": "9855561e-b924-480d-9a4c-3b436a7e5a72",
   "metadata": {},
   "outputs": [
    {
     "data": {
      "image/png": "[encoded data removed]",
      "text/plain": [
       "<Figure size 1000x600 with 1 Axes>"
      ]
     },
     "metadata": {},
     "output_type": "display_data"
    }
   ],
   "source": [
    "# Define the bins using numpy for easier calculation\n",
    "bins = np.arange(0, df['price'].max() + 2, 2)\n",
    "\n",
    "# Create the histogram\n",
    "plt.figure(figsize=(10, 6))\n",
    "plt.hist(df['price'], bins=bins, color='skyblue', edgecolor='black')\n",
    "plt.title('Price Distribution')\n",
    "plt.xlabel('Price')\n",
    "plt.ylabel('Number of Listings')\n",
    "plt.xticks(bins, rotation=45)  # To improve readability of x-axis labels\n",
    "plt.show()"
   ]
  },
  {
   "cell_type": "code",
   "execution_count": 98,
   "id": "4d24a260-544f-4073-b07b-7c240a30fc7b",
   "metadata": {},
   "outputs": [
    {
     "data": {
      "text/plain": [
       "2.2754022636501676"
      ]
     },
     "execution_count": 98,
     "metadata": {},
     "output_type": "execute_result"
    }
   ],
   "source": [
    "df['stars'].mean()"
   ]
  },
  {
   "cell_type": "code",
   "execution_count": 100,
   "id": "f9a7b957-0248-4edd-88e4-822a47378056",
   "metadata": {},
   "outputs": [
    {
     "data": {
      "text/plain": [
       "3.4"
      ]
     },
     "execution_count": 100,
     "metadata": {},
     "output_type": "execute_result"
    }
   ],
   "source": [
    "df['stars'].median()"
   ]
  },
  {
   "cell_type": "code",
   "execution_count": 102,
   "id": "21f9ce89-e981-4344-9bc3-d159fd0b11aa",
   "metadata": {},
   "outputs": [
    {
     "data": {
      "text/plain": [
       "0    0.0\n",
       "Name: stars, dtype: float64"
      ]
     },
     "execution_count": 102,
     "metadata": {},
     "output_type": "execute_result"
    }
   ],
   "source": [
    "df['stars'].mode()"
   ]
  },
  {
   "cell_type": "code",
   "execution_count": 104,
   "id": "48fd178f-2300-458e-b3e6-34590794a9e9",
   "metadata": {},
   "outputs": [
    {
     "data": {
      "text/plain": [
       "count    2.115963e+06\n",
       "mean     2.275402e+00\n",
       "std      2.193863e+00\n",
       "min      0.000000e+00\n",
       "25%      0.000000e+00\n",
       "50%      3.400000e+00\n",
       "75%      4.400000e+00\n",
       "max      5.000000e+00\n",
       "Name: stars, dtype: float64"
      ]
     },
     "execution_count": 104,
     "metadata": {},
     "output_type": "execute_result"
    }
   ],
   "source": [
    "df['stars'].describe()"
   ]
  },
  {
   "cell_type": "code",
   "execution_count": null,
   "id": "64723fdd-6fd7-4563-94ed-ccfc7b554e34",
   "metadata": {},
   "outputs": [],
   "source": []
  },
  {
   "cell_type": "code",
   "execution_count": 106,
   "id": "d3f2642a-859f-45a8-86d0-4fd7f885b0eb",
   "metadata": {},
   "outputs": [
    {
     "data": {
      "text/plain": [
       "4.813034841573963"
      ]
     },
     "execution_count": 106,
     "metadata": {},
     "output_type": "execute_result"
    }
   ],
   "source": [
    "df['stars'].var()"
   ]
  },
  {
   "cell_type": "code",
   "execution_count": 108,
   "id": "c42c2563-bb8d-4bc0-bf52-218416109d24",
   "metadata": {},
   "outputs": [
    {
     "data": {
      "text/plain": [
       "array([0., 1., 2., 3., 4., 5.])"
      ]
     },
     "execution_count": 108,
     "metadata": {},
     "output_type": "execute_result"
    }
   ],
   "source": [
    "#Create bins to be able to group publications according to surface area\n",
    "bins = np.arange(0, df['stars'].max() + 1, 1)\n",
    "bins"
   ]
  },
  {
   "cell_type": "code",
   "execution_count": 110,
   "id": "9a85716d-7d45-41c2-ae9e-72ade4dcc133",
   "metadata": {},
   "outputs": [
    {
     "name": "stdout",
     "output_type": "stream",
     "text": [
      "stars_range\n",
      "(0.0, 1.0]      7487\n",
      "(1.0, 2.0]      4865\n",
      "(2.0, 3.0]     24530\n",
      "(3.0, 4.0]    192021\n",
      "(4.0, 5.0]    885440\n",
      "Name: count, dtype: int64\n"
     ]
    },
    {
     "name": "stderr",
     "output_type": "stream",
     "text": [
      "C:\\Users\\barba\\AppData\\Local\\Temp\\ipykernel_14580\\67790351.py:1: SettingWithCopyWarning: \n",
      "A value is trying to be set on a copy of a slice from a DataFrame.\n",
      "Try using .loc[row_indexer,col_indexer] = value instead\n",
      "\n",
      "See the caveats in the documentation: https://pandas.pydata.org/pandas-docs/stable/user_guide/indexing.html#returning-a-view-versus-a-copy\n",
      "  df['stars_range'] = pd.cut(df['stars'], bins=bins)\n"
     ]
    }
   ],
   "source": [
    "df['stars_range'] = pd.cut(df['stars'], bins=bins)\n",
    "\n",
    "st_count_ranges = df['stars_range'].value_counts().sort_index()\n",
    "\n",
    "print(st_count_ranges)"
   ]
  },
  {
   "cell_type": "code",
   "execution_count": 112,
   "id": "a00f48d6-0f2a-40ec-8100-5df5b5f61689",
   "metadata": {},
   "outputs": [
    {
     "data": {
      "image/png": "[encoded data removed]",
      "text/plain": [
       "<Figure size 1000x600 with 1 Axes>"
      ]
     },
     "metadata": {},
     "output_type": "display_data"
    }
   ],
   "source": [
    "# Define the bins using numpy for easier calculation\n",
    "bins = np.arange(0, df['stars'].max() + 1, 1)\n",
    "\n",
    "# Create the histogram\n",
    "plt.figure(figsize=(10, 6))\n",
    "plt.hist(df['stars'], bins=bins, color='skyblue', edgecolor='black')\n",
    "plt.title('Stars Distribution')\n",
    "plt.xlabel('Stars')\n",
    "plt.ylabel('Number of Ratings')\n",
    "plt.xticks(bins, rotation=45)  # To improve readability of x-axis labels\n",
    "plt.show()"
   ]
  },
  {
   "cell_type": "code",
   "execution_count": 114,
   "id": "3081e301-2ce9-459a-a604-c9c734e51fa0",
   "metadata": {},
   "outputs": [
    {
     "name": "stdout",
     "output_type": "stream",
     "text": [
      "-6.6000000000000005\n",
      "11.0\n",
      "Outliers in 'stars':\n",
      "Series([], Name: stars, dtype: float64)\n"
     ]
    }
   ],
   "source": [
    "#Identify ranges of outliers according to prices\n",
    "values = df['stars'].dropna()\n",
    "\n",
    "# Calculate Q1 (25th percentile) and Q3 (75th percentile)\n",
    "Q1 = values.quantile(0.25)\n",
    "Q3 = values.quantile(0.75)\n",
    "\n",
    "# Calculate the IQR\n",
    "IQR = Q3 - Q1\n",
    "\n",
    "# Determine the outlier limits\n",
    "lower_bound = Q1 - 1.5 * IQR\n",
    "upper_bound = Q3 + 1.5 * IQR\n",
    "print(lower_bound)\n",
    "print(upper_bound)\n",
    "\n",
    "# Identify the outliers\n",
    "outliers = values[(values < lower_bound) | (values > upper_bound)]\n",
    "\n",
    "print(\"Outliers in 'stars':\")\n",
    "print(outliers)"
   ]
  },
  {
   "cell_type": "code",
   "execution_count": 116,
   "id": "67a1a796-963f-40f0-9a42-f595717bdeb8",
   "metadata": {},
   "outputs": [
    {
     "data": {
      "text/plain": [
       "(-0.028686414004605594, -1.9288985165158545)"
      ]
     },
     "execution_count": 116,
     "metadata": {},
     "output_type": "execute_result"
    }
   ],
   "source": [
    "skewness_stars = df['stars'].skew() #se compara con 0\n",
    "kurtosis_stars = df['stars'].kurtosis() #se compara con 3\n",
    "\n",
    "skewness_stars, kurtosis_stars"
   ]
  },
  {
   "cell_type": "code",
   "execution_count": null,
   "id": "ef49e886-2862-471c-90f2-c5014c10dc64",
   "metadata": {},
   "outputs": [],
   "source": []
  }
 ],
 "metadata": {
  "kernelspec": {
   "display_name": "Python [conda env:base] *",
   "language": "python",
   "name": "conda-base-py"
  },
  "language_info": {
   "codemirror_mode": {
    "name": "ipython",
    "version": 3
   },
   "file_extension": ".py",
   "mimetype": "text/x-python",
   "name": "python",
   "nbconvert_exporter": "python",
   "pygments_lexer": "ipython3",
   "version": "3.12.7"
  }
 },
 "nbformat": 4,
 "nbformat_minor": 5
}
